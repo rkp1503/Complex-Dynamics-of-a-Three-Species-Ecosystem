{
 "cells": [
  {
   "attachments": {},
   "cell_type": "markdown",
   "metadata": {},
   "source": [
    "# Complex Dynamics of a Three Species Ecosystem\n",
    "\n",
    "- Author: Ramsey (Rayla) Phuc\n",
    "  - Alias: Rayla Kurosaki\n",
    "  - GitHub: https://github.com/rkp1503\n",
    "- Co-author: Ephraim Agyingi"
   ]
  },
  {
   "attachments": {},
   "cell_type": "markdown",
   "metadata": {},
   "source": [
    "```\n",
    "pip install matplotlib, numpy, scipy, sympy\n",
    "```\n",
    "\n",
    "```\n",
    "python code_python/main.py\n",
    "```"
   ]
  },
  {
   "cell_type": "code",
   "execution_count": 1,
   "metadata": {},
   "outputs": [],
   "source": [
    "#-----------------------------------------------------------------------------\n",
    "# This block of code imports relevant libraries that are needed to run this \n",
    "# notebook.\n",
    "#-----------------------------------------------------------------------------\n",
    "import sympy as sym\n",
    "\n",
    "from utils import equilibria_existance as eq_exist\n",
    "from utils import utils\n",
    "\n",
    "sym.init_printing()"
   ]
  },
  {
   "cell_type": "code",
   "execution_count": 2,
   "metadata": {},
   "outputs": [],
   "source": [
    "#-----------------------------------------------------------------------------\n",
    "# This block of code initializes all variables and parameters mentioned in the paper.\n",
    "#-----------------------------------------------------------------------------\n",
    "\n",
    "# Density of species X\n",
    "x = sym.symbols(\"x\")\n",
    "# Density of species Y\n",
    "y = sym.symbols(\"y\")\n",
    "# Density of species Z\n",
    "z = sym.symbols(\"z\")\n",
    "# Time variable\n",
    "t = sym.symbols(\"t\")\n",
    "\n",
    "# Ratio of intrinsic growth rate of species Y to species X\n",
    "r_yx = sym.symbols(\"r_yx\")\n",
    "# Ratio of intrinsic growth rate of species Z to species X\n",
    "r_zx = sym.symbols(\"r_zx\")\n",
    "# Refuge rate of Species Y\n",
    "p = sym.symbols(\"p\")\n",
    "# Scaled inter-species competition coefficient of species Y on species X\n",
    "phi_xy = sym.symbols(\"varphi_xy\")\n",
    "# Scaled inter-species competition coefficient of species X on species Y\n",
    "phi_yx = sym.symbols(\"varphi_yx\")\n",
    "# Scaled commensal coefficient of species Z on species X\n",
    "phi_xz = sym.symbols(\"varphi_xz\")\n",
    "# Scaled rate at which species Z attacks species Y\n",
    "u_1 = sym.symbols(\"u_1\")\n",
    "# Scaled half saturation constant for Holling type II function\n",
    "u_2 = sym.symbols(\"u_2\")\n",
    "# Scaled conservation rate of species Y\n",
    "u_3 = sym.symbols(\"u_3\")\n",
    "# Scaled death rate of species Z\n",
    "u_4 = sym.symbols(\"u_4\")\n",
    "\n",
    "# \n",
    "labels_colors_dict = {\n",
    "    x: [\"X\", \"Black\"],\n",
    "    y: [\"Y\", \"Red\"],\n",
    "    z: [\"Z\", \"Blue\"],\n",
    "}"
   ]
  },
  {
   "cell_type": "code",
   "execution_count": 3,
   "metadata": {},
   "outputs": [],
   "source": [
    "#-----------------------------------------------------------------------------\n",
    "# This block of code contains parameters that the user can manipulate.\n",
    "#-----------------------------------------------------------------------------\n",
    "# \n",
    "vars_dict = {\n",
    "    # Density of species X \n",
    "    x: 0.7,\n",
    "    # Density of species Y\n",
    "    y: 0.4,\n",
    "    # Density of species Z\n",
    "    z: 0.2,\n",
    "}\n",
    "# \n",
    "params_dict = {\n",
    "    # Ratio of intrinsic growth rate of species Y to species X\n",
    "    r_yx: 0.6353,\n",
    "    # Ratio of intrinsic growth rate of species Z to species X\n",
    "    r_zx: 0.742,\n",
    "    # Refuge rate of species Y\n",
    "    p: 0.852,\n",
    "    # Scaled inter-species mutualism coefficient of species Y on species X\n",
    "    phi_xy: 0.142,\n",
    "    # Scaled inter-species competition coefficient of species X on species Y\n",
    "    phi_yx: 0.002,\n",
    "    # Scaled commensal coefficient of species Z on species X\n",
    "    phi_xz: 0.148,\n",
    "    u_1: 0.090,\n",
    "    # Scaled half saturation constant for Holling type II function\n",
    "    u_2: 0.891,\n",
    "    # Scaled conservation rate of species Y\n",
    "    u_3: 0.980,\n",
    "    # Scaled death rate of species Z\n",
    "    u_4: 0.230,\n",
    "}\n",
    "# Number of days to model.\n",
    "t_max = 500\n",
    "# \n",
    "show_equilibria = True\n",
    "show_stability = True"
   ]
  },
  {
   "attachments": {},
   "cell_type": "markdown",
   "metadata": {},
   "source": [
    "## Proposed Model:\n",
    "$$\n",
    "\\begin{align*}\n",
    "\t\\frac{\\textrm{d}x}{\\textrm{d}t} &= x\\left(1-x+\\varphi_{xy}y^2\\right)+\\varphi_{xz}xz\\\\\n",
    "\t\\frac{\\textrm{d}y}{\\textrm{d}t} &= r_{yx}y\\left(1-y+\\varphi_{yz}x^2\\right)-\\frac{u_1\\left(1-p\\right)yz}{u_2+\\left(1-p\\right)y}\\\\\n",
    "\t\\frac{\\textrm{d}z}{\\textrm{d}t} &= r_{zx}z\\left(1-z\\right)+z\\left(\\frac{u_3\\left(1-p\\right)y}{u_2+\\left(1-p\\right)y}-u_4\\right)\n",
    "\\end{align*}\n",
    "$$"
   ]
  },
  {
   "cell_type": "code",
   "execution_count": 4,
   "metadata": {},
   "outputs": [],
   "source": [
    "def model(variables, t, *parameters):\n",
    "    x, y, z = variables\n",
    "    r_yx, r_zx, p, phi_xy, phi_yx, phi_xz, u_1, u_2, u_3, u_4 = parameters[0] if len(parameters) == 1 else parameters\n",
    "    dx = x*(1-x+phi_xy*y**2)-phi_xz*x*z\n",
    "    dy = r_yx*y*(1-y+phi_yx*x**2)-((u_1*(1-p)*y*z)/(u_2+(1-p)*y))\n",
    "    dz = r_zx*z*(1-z)+z*(((u_3*(1-p)*y)/(u_2+(1-p)*y))-u_4)\n",
    "    return [dx, dy, dz]"
   ]
  },
  {
   "attachments": {},
   "cell_type": "markdown",
   "metadata": {},
   "source": [
    "## The existance of equilibria"
   ]
  },
  {
   "cell_type": "code",
   "execution_count": 5,
   "metadata": {},
   "outputs": [],
   "source": [
    "equilibria = []"
   ]
  },
  {
   "attachments": {},
   "cell_type": "markdown",
   "metadata": {},
   "source": [
    "### The trivial equilibrium"
   ]
  },
  {
   "cell_type": "code",
   "execution_count": 6,
   "metadata": {},
   "outputs": [
    {
     "data": {
      "image/png": "[encoded data removed]",
      "text/latex": [
       "$\\displaystyle \\left( 0, \\  0, \\  0\\right)$"
      ],
      "text/plain": [
       "(0, 0, 0)"
      ]
     },
     "metadata": {},
     "output_type": "display_data"
    }
   ],
   "source": [
    "if show_equilibria:\n",
    "    E_0 = utils.compute_equilibria(model, vars_dict, params_dict, equilibria, [0, 0, 0])\n",
    "    if E_0 is None:\n",
    "        print(\"The trivial equilibrium does not exist!\")\n",
    "        pass\n",
    "    else:\n",
    "        display(tuple(E_0.values()))\n",
    "        equilibria.append(E_0)\n",
    "        pass\n",
    "    pass"
   ]
  },
  {
   "attachments": {},
   "cell_type": "markdown",
   "metadata": {},
   "source": [
    "### The $x$-axial equilibrium"
   ]
  },
  {
   "cell_type": "code",
   "execution_count": 7,
   "metadata": {},
   "outputs": [
    {
     "data": {
      "image/png": "[encoded data removed]",
      "text/latex": [
       "$\\displaystyle \\left( 1, \\  0, \\  0\\right)$"
      ],
      "text/plain": [
       "(1, 0, 0)"
      ]
     },
     "metadata": {},
     "output_type": "display_data"
    }
   ],
   "source": [
    "if show_equilibria:\n",
    "    E_x = utils.compute_equilibria(model, vars_dict, params_dict, equilibria, [x, 0, 0])\n",
    "    if E_x is None:\n",
    "        print(\"The x-axial equilibrium does not exist!\")\n",
    "        pass\n",
    "    else:\n",
    "        display(tuple(E_x.values()))\n",
    "        equilibria.append(E_x)\n",
    "        pass\n",
    "    pass"
   ]
  },
  {
   "attachments": {},
   "cell_type": "markdown",
   "metadata": {},
   "source": [
    "### The $y$-axial equilibrium"
   ]
  },
  {
   "cell_type": "code",
   "execution_count": 8,
   "metadata": {},
   "outputs": [
    {
     "data": {
      "image/png": "[encoded data removed]",
      "text/latex": [
       "$\\displaystyle \\left( 0, \\  1, \\  0\\right)$"
      ],
      "text/plain": [
       "(0, 1, 0)"
      ]
     },
     "metadata": {},
     "output_type": "display_data"
    }
   ],
   "source": [
    "if show_equilibria:\n",
    "    E_y = utils.compute_equilibria(model, vars_dict, params_dict, equilibria, [0, y, 0])\n",
    "    if E_y is not None:\n",
    "        display(tuple(E_y.values()))\n",
    "        equilibria.append(E_y)\n",
    "        pass\n",
    "    else:\n",
    "        print(\"The y-axial equilibrium does not exist!\")\n",
    "        pass\n",
    "    pass"
   ]
  },
  {
   "attachments": {},
   "cell_type": "markdown",
   "metadata": {},
   "source": [
    "### The $z$-axial equilibrium"
   ]
  },
  {
   "cell_type": "code",
   "execution_count": 9,
   "metadata": {},
   "outputs": [
    {
     "data": {
      "image/png": "[encoded data removed]",
      "text/latex": [
       "$\\displaystyle \\left( 0, \\  0, \\  \\frac{r_{zx} - u_{4}}{r_{zx}}\\right)$"
      ],
      "text/plain": [
       "⎛      r_zx - u₄⎞\n",
       "⎜0, 0, ─────────⎟\n",
       "⎝         r_zx  ⎠"
      ]
     },
     "metadata": {},
     "output_type": "display_data"
    }
   ],
   "source": [
    "if show_equilibria:\n",
    "    E_z = utils.compute_equilibria(model, vars_dict, params_dict, equilibria, [0, 0, z])\n",
    "    if E_z is not None:\n",
    "        display(tuple(E_z.values()))\n",
    "        equilibria.append(E_z)\n",
    "        pass\n",
    "    else:\n",
    "        print(\"The z-axial equilibrium does not exist!\")\n",
    "        pass\n",
    "    pass"
   ]
  },
  {
   "attachments": {},
   "cell_type": "markdown",
   "metadata": {},
   "source": [
    "### The $xy$-boundary equilibrium"
   ]
  },
  {
   "cell_type": "code",
   "execution_count": 10,
   "metadata": {},
   "outputs": [
    {
     "data": {
      "image/png": "[encoded data removed]",
      "text/latex": [
       "$\\displaystyle \\left( \\varphi_{xy} y^{2} + 1, \\  y, \\  0\\right)$"
      ],
      "text/plain": [
       "⎛           2          ⎞\n",
       "⎝varphi_xy⋅y  + 1, y, 0⎠"
      ]
     },
     "metadata": {},
     "output_type": "display_data"
    }
   ],
   "source": [
    "if show_equilibria:\n",
    "    E_xy = eq_exist.xy_boundary(vars_dict, params_dict, [x, y, 0])\n",
    "    if E_xy is not None:\n",
    "        display(tuple(E_xy.values()))\n",
    "        equilibria.append(E_xy)\n",
    "        pass\n",
    "    else:\n",
    "        print(\"The xy-boundary equilibrium does not exist!\")\n",
    "        pass\n",
    "    pass"
   ]
  },
  {
   "attachments": {},
   "cell_type": "markdown",
   "metadata": {},
   "source": [
    "### The $xz$-boundary equilibrium"
   ]
  },
  {
   "cell_type": "code",
   "execution_count": 11,
   "metadata": {},
   "outputs": [
    {
     "data": {
      "image/png": "[encoded data removed]",
      "text/latex": [
       "$\\displaystyle \\left( 1 - \\frac{\\varphi_{xz} \\left(r_{zx} - u_{4}\\right)}{r_{zx}}, \\  0, \\  \\frac{r_{zx} - u_{4}}{r_{zx}}\\right)$"
      ],
      "text/plain": [
       "⎛    varphi_xz⋅(r_zx - u₄)     r_zx - u₄⎞\n",
       "⎜1 - ─────────────────────, 0, ─────────⎟\n",
       "⎝             r_zx                r_zx  ⎠"
      ]
     },
     "metadata": {},
     "output_type": "display_data"
    }
   ],
   "source": [
    "if show_equilibria:\n",
    "    E_xz = utils.compute_equilibria(model, vars_dict, params_dict, equilibria, [x, 0, z])\n",
    "    if E_xz is not None:\n",
    "        display(tuple(E_xz.values()))\n",
    "        equilibria.append(E_xz)\n",
    "        pass\n",
    "    else:\n",
    "        print(\"The xz-boundary equilibrium does not exist!\")\n",
    "        pass\n",
    "    pass"
   ]
  },
  {
   "attachments": {},
   "cell_type": "markdown",
   "metadata": {},
   "source": [
    "### The $yz$-boundary equilibrium"
   ]
  },
  {
   "cell_type": "code",
   "execution_count": 12,
   "metadata": {},
   "outputs": [
    {
     "data": {
      "image/png": "[encoded data removed]",
      "text/latex": [
       "$\\displaystyle \\left( 0, \\  y, \\  1 + \\frac{\\frac{u_{3} y \\left(1 - p\\right)}{u_{2} + y \\left(1 - p\\right)} - u_{4}}{r_{zx}}\\right)$"
      ],
      "text/plain": [
       "⎛           u₃⋅y⋅(1 - p)      ⎞\n",
       "⎜          ────────────── - u₄⎟\n",
       "⎜          u₂ + y⋅(1 - p)     ⎟\n",
       "⎜0, y, 1 + ───────────────────⎟\n",
       "⎝                  r_zx       ⎠"
      ]
     },
     "metadata": {},
     "output_type": "display_data"
    }
   ],
   "source": [
    "if show_equilibria:\n",
    "    E_yz = eq_exist.yz_boundary(vars_dict, params_dict, [0, y, z])\n",
    "    if E_yz is not None:\n",
    "        display(tuple(E_yz.values()))\n",
    "        equilibria.append(E_yz)\n",
    "        pass\n",
    "    else:\n",
    "        print(\"The yz-boundary equilibrium does not exist!\")\n",
    "        pass\n",
    "    pass"
   ]
  },
  {
   "attachments": {},
   "cell_type": "markdown",
   "metadata": {},
   "source": [
    "### The interior equilibrium"
   ]
  },
  {
   "cell_type": "code",
   "execution_count": 13,
   "metadata": {},
   "outputs": [
    {
     "data": {
      "image/png": "[encoded data removed]",
      "text/latex": [
       "$\\displaystyle \\left( \\varphi_{xy} y^{2} - \\varphi_{xz} \\left(1 + \\frac{\\frac{u_{3} y \\left(1 - p\\right)}{u_{2} + y \\left(1 - p\\right)} - u_{4}}{r_{zx}}\\right) + 1, \\  y, \\  1 + \\frac{\\frac{u_{3} y \\left(1 - p\\right)}{u_{2} + y \\left(1 - p\\right)} - u_{4}}{r_{zx}}\\right)$"
      ],
      "text/plain": [
       "⎛                         ⎛     u₃⋅y⋅(1 - p)      ⎞              u₃⋅y⋅(1 - p) \n",
       "⎜                         ⎜    ────────────── - u₄⎟             ──────────────\n",
       "⎜           2             ⎜    u₂ + y⋅(1 - p)     ⎟             u₂ + y⋅(1 - p)\n",
       "⎜varphi_xy⋅y  - varphi_xz⋅⎜1 + ───────────────────⎟ + 1, y, 1 + ──────────────\n",
       "⎝                         ⎝            r_zx       ⎠                     r_zx  \n",
       "\n",
       "     ⎞\n",
       " - u₄⎟\n",
       "     ⎟\n",
       "─────⎟\n",
       "     ⎠"
      ]
     },
     "metadata": {},
     "output_type": "display_data"
    }
   ],
   "source": [
    "if show_equilibria:\n",
    "    E_xyz = eq_exist.interior(vars_dict, params_dict, [x, y, z])\n",
    "    if E_xyz is not None:\n",
    "        display(tuple(E_xyz.values()))\n",
    "        equilibria.append(E_xyz)\n",
    "        pass\n",
    "    else:\n",
    "        print(\"The interior equilibrium does not exist!\")\n",
    "        pass\n",
    "    pass"
   ]
  },
  {
   "attachments": {},
   "cell_type": "markdown",
   "metadata": {},
   "source": [
    "### Displaying equilibria"
   ]
  },
  {
   "cell_type": "code",
   "execution_count": 14,
   "metadata": {},
   "outputs": [
    {
     "data": {
      "image/png": "[encoded data removed]",
      "text/latex": [
       "$\\displaystyle \\left( 0, \\  0, \\  0\\right)$"
      ],
      "text/plain": [
       "(0, 0, 0)"
      ]
     },
     "metadata": {},
     "output_type": "display_data"
    },
    {
     "data": {
      "image/png": "[encoded data removed]",
      "text/latex": [
       "$\\displaystyle \\left( 1, \\  0, \\  0\\right)$"
      ],
      "text/plain": [
       "(1, 0, 0)"
      ]
     },
     "metadata": {},
     "output_type": "display_data"
    },
    {
     "data": {
      "image/png": "[encoded data removed]",
      "text/latex": [
       "$\\displaystyle \\left( 0, \\  1, \\  0\\right)$"
      ],
      "text/plain": [
       "(0, 1, 0)"
      ]
     },
     "metadata": {},
     "output_type": "display_data"
    },
    {
     "data": {
      "image/png": "[encoded data removed]",
      "text/latex": [
       "$\\displaystyle \\left( 0, \\  0, \\  \\frac{r_{zx} - u_{4}}{r_{zx}}\\right)$"
      ],
      "text/plain": [
       "⎛      r_zx - u₄⎞\n",
       "⎜0, 0, ─────────⎟\n",
       "⎝         r_zx  ⎠"
      ]
     },
     "metadata": {},
     "output_type": "display_data"
    },
    {
     "data": {
      "image/png": "[encoded data removed]",
      "text/latex": [
       "$\\displaystyle \\left( \\varphi_{xy} y^{2} + 1, \\  y, \\  0\\right)$"
      ],
      "text/plain": [
       "⎛           2          ⎞\n",
       "⎝varphi_xy⋅y  + 1, y, 0⎠"
      ]
     },
     "metadata": {},
     "output_type": "display_data"
    },
    {
     "data": {
      "image/png": "[encoded data removed]",
      "text/latex": [
       "$\\displaystyle \\left( 1 - \\frac{\\varphi_{xz} \\left(r_{zx} - u_{4}\\right)}{r_{zx}}, \\  0, \\  \\frac{r_{zx} - u_{4}}{r_{zx}}\\right)$"
      ],
      "text/plain": [
       "⎛    varphi_xz⋅(r_zx - u₄)     r_zx - u₄⎞\n",
       "⎜1 - ─────────────────────, 0, ─────────⎟\n",
       "⎝             r_zx                r_zx  ⎠"
      ]
     },
     "metadata": {},
     "output_type": "display_data"
    },
    {
     "data": {
      "image/png": "[encoded data removed]",
      "text/latex": [
       "$\\displaystyle \\left( 0, \\  y, \\  1 + \\frac{\\frac{u_{3} y \\left(1 - p\\right)}{u_{2} + y \\left(1 - p\\right)} - u_{4}}{r_{zx}}\\right)$"
      ],
      "text/plain": [
       "⎛           u₃⋅y⋅(1 - p)      ⎞\n",
       "⎜          ────────────── - u₄⎟\n",
       "⎜          u₂ + y⋅(1 - p)     ⎟\n",
       "⎜0, y, 1 + ───────────────────⎟\n",
       "⎝                  r_zx       ⎠"
      ]
     },
     "metadata": {},
     "output_type": "display_data"
    },
    {
     "data": {
      "image/png": "[encoded data removed]",
      "text/latex": [
       "$\\displaystyle \\left( \\varphi_{xy} y^{2} - \\varphi_{xz} \\left(1 + \\frac{\\frac{u_{3} y \\left(1 - p\\right)}{u_{2} + y \\left(1 - p\\right)} - u_{4}}{r_{zx}}\\right) + 1, \\  y, \\  1 + \\frac{\\frac{u_{3} y \\left(1 - p\\right)}{u_{2} + y \\left(1 - p\\right)} - u_{4}}{r_{zx}}\\right)$"
      ],
      "text/plain": [
       "⎛                         ⎛     u₃⋅y⋅(1 - p)      ⎞              u₃⋅y⋅(1 - p) \n",
       "⎜                         ⎜    ────────────── - u₄⎟             ──────────────\n",
       "⎜           2             ⎜    u₂ + y⋅(1 - p)     ⎟             u₂ + y⋅(1 - p)\n",
       "⎜varphi_xy⋅y  - varphi_xz⋅⎜1 + ───────────────────⎟ + 1, y, 1 + ──────────────\n",
       "⎝                         ⎝            r_zx       ⎠                     r_zx  \n",
       "\n",
       "     ⎞\n",
       " - u₄⎟\n",
       "     ⎟\n",
       "─────⎟\n",
       "     ⎠"
      ]
     },
     "metadata": {},
     "output_type": "display_data"
    }
   ],
   "source": [
    "if show_equilibria:\n",
    "    for equilibrium in equilibria:\n",
    "        display(tuple(equilibrium.values()))\n",
    "        pass\n",
    "    pass"
   ]
  },
  {
   "attachments": {},
   "cell_type": "markdown",
   "metadata": {},
   "source": [
    "## Stability analysis of Equilibria\n",
    "\n",
    "\\begin{equation*}\n",
    "    \\textbf{J}\\left(E_i\\right)=\\textbf{J}\\left(x_i^*,\\ y_i^*,\\ z_i^*\\right)=\\begin{bmatrix}\n",
    "        j_{11} & j_{12} & j_{13}\\\\\n",
    "        j_{21} & j_{22} & j_{23}\\\\\n",
    "        0 & j_{32} & j_{33}\n",
    "    \\end{bmatrix}\n",
    "\\end{equation*}\n",
    "\n",
    "where\n",
    "\n",
    "\\begin{align*}\n",
    "    j_{11} &= 1-2x_i^*+\\gamma_{12}\\left(y_i^*\\right)^2-\\gamma_{13}z_i^*\\\\\n",
    "    j_{12} &= 2\\gamma_{12}x_i^*y_i^*\\\\\n",
    "    j_{13} &= -\\gamma_{13}x_i^*\\\\\n",
    "    j_{21} &= 2\\gamma_{21}r_1x_i^*y_i^*\\\\\n",
    "    j_{22} &= r_1\\left(1-2y_i^*+\\gamma_{21}\\left(x_i^*\\right)^2\\right)-\\frac{v_1\\left(1-p\\right)z_i^*}{\\left(v_1+\\left(1-p\\right)y_i^*\\right)^2}\\\\\n",
    "    j_{23} &= -\\frac{\\left(1-p\\right)y_i^*}{v_1+\\left(1-p\\right)y_i^*}\\\\\n",
    "    j_{32} &= \\frac{v_1v_3\\left(1-p\\right)z_i^*}{\\left(v_1+\\left(1-p\\right)y_i^*\\right)^2}\\\\\n",
    "    j_{33} &= r_2\\left(1-2\\gamma_{31}z_i^*\\right)+\\frac{v_3\\left(1-p\\right)y_i^*}{v_1+\\left(1-p\\right)y_i^*}-v_2\n",
    "\\end{align*}"
   ]
  },
  {
   "attachments": {},
   "cell_type": "markdown",
   "metadata": {},
   "source": [
    "### The trivial equilibrium"
   ]
  },
  {
   "cell_type": "code",
   "execution_count": 15,
   "metadata": {},
   "outputs": [
    {
     "data": {
      "image/png": "[encoded data removed]",
      "text/latex": [
       "$\\displaystyle \\left[\\begin{matrix}1 & 0 & 0\\\\0 & r_{yx} & 0\\\\0 & 0 & r_{zx} - u_{4}\\end{matrix}\\right]$"
      ],
      "text/plain": [
       "⎡1   0        0    ⎤\n",
       "⎢                  ⎥\n",
       "⎢0  r_yx      0    ⎥\n",
       "⎢                  ⎥\n",
       "⎣0   0    r_zx - u₄⎦"
      ]
     },
     "metadata": {},
     "output_type": "display_data"
    },
    {
     "data": {
      "image/png": "[encoded data removed]",
      "text/latex": [
       "$\\displaystyle \\lambda^{3} + \\lambda^{2} \\left(- r_{yx} - r_{zx} + u_{4} - 1\\right) + \\lambda \\left(r_{yx} r_{zx} - r_{yx} u_{4} + r_{yx} + r_{zx} - u_{4}\\right) - r_{yx} r_{zx} + r_{yx} u_{4}$"
      ],
      "text/plain": [
       " 3    2                                                                       \n",
       "λ  + λ ⋅(-r_yx - r_zx + u₄ - 1) + λ⋅(r_yx⋅r_zx - r_yx⋅u₄ + r_yx + r_zx - u₄) -\n",
       "\n",
       "                    \n",
       " r_yx⋅r_zx + r_yx⋅u₄"
      ]
     },
     "metadata": {},
     "output_type": "display_data"
    },
    {
     "data": {
      "image/png": "[encoded data removed]",
      "text/latex": [
       "$\\displaystyle \\left[ 1, \\  r_{yx}, \\  r_{zx} - u_{4}\\right]$"
      ],
      "text/plain": [
       "[1, r_yx, r_zx - u₄]"
      ]
     },
     "metadata": {},
     "output_type": "display_data"
    }
   ],
   "source": [
    "if show_stability:\n",
    "    jacobian, jacobian_s = utils.construct_jacobian(model, vars_dict, params_dict, E_0)\n",
    "    utils.stability_analysis(jacobian, jacobian_s)\n",
    "    pass"
   ]
  },
  {
   "attachments": {},
   "cell_type": "markdown",
   "metadata": {},
   "source": [
    "### The $x$-axial equilibrium"
   ]
  },
  {
   "cell_type": "code",
   "execution_count": 16,
   "metadata": {},
   "outputs": [
    {
     "data": {
      "image/png": "[encoded data removed]",
      "text/latex": [
       "$\\displaystyle \\left[\\begin{matrix}-1 & 0 & - \\varphi_{xz}\\\\0 & r_{yx} \\left(\\varphi_{yx} + 1\\right) & 0\\\\0 & 0 & r_{zx} - u_{4}\\end{matrix}\\right]$"
      ],
      "text/plain": [
       "⎡-1           0            -varphi_xz⎤\n",
       "⎢                                    ⎥\n",
       "⎢0   r_yx⋅(varphi_yx + 1)      0     ⎥\n",
       "⎢                                    ⎥\n",
       "⎣0            0            r_zx - u₄ ⎦"
      ]
     },
     "metadata": {},
     "output_type": "display_data"
    },
    {
     "data": {
      "image/png": "[encoded data removed]",
      "text/latex": [
       "$\\displaystyle \\lambda^{3} + \\lambda^{2} \\left(- r_{yx} \\varphi_{yx} - r_{yx} - r_{zx} + u_{4} + 1\\right) - \\lambda \\left(- r_{yx} r_{zx} \\varphi_{yx} - r_{yx} r_{zx} + r_{yx} u_{4} \\varphi_{yx} + r_{yx} u_{4} + r_{yx} \\varphi_{yx} + r_{yx} + r_{zx} - u_{4}\\right) + r_{yx} r_{zx} \\varphi_{yx} + r_{yx} r_{zx} - r_{yx} u_{4} \\varphi_{yx} - r_{yx} u_{4}$"
      ],
      "text/plain": [
       " 3    2                                                                       \n",
       "λ  + λ ⋅(-r_yx⋅varphi_yx - r_yx - r_zx + u₄ + 1) - λ⋅(-r_yx⋅r_zx⋅varphi_yx - r\n",
       "\n",
       "                                                                              \n",
       "_yx⋅r_zx + r_yx⋅u₄⋅varphi_yx + r_yx⋅u₄ + r_yx⋅varphi_yx + r_yx + r_zx - u₄) + \n",
       "\n",
       "                                                             \n",
       "r_yx⋅r_zx⋅varphi_yx + r_yx⋅r_zx - r_yx⋅u₄⋅varphi_yx - r_yx⋅u₄"
      ]
     },
     "metadata": {},
     "output_type": "display_data"
    },
    {
     "data": {
      "image/png": "[encoded data removed]",
      "text/latex": [
       "$\\displaystyle \\left[ -1, \\  r_{zx} - u_{4}, \\  r_{yx} \\varphi_{yx} + r_{yx}\\right]$"
      ],
      "text/plain": [
       "[-1, r_zx - u₄, r_yx⋅varphi_yx + r_yx]"
      ]
     },
     "metadata": {},
     "output_type": "display_data"
    }
   ],
   "source": [
    "if show_stability:\n",
    "    jacobian, jacobian_s = utils.construct_jacobian(model, vars_dict, params_dict, E_x)\n",
    "    utils.stability_analysis(jacobian, jacobian_s)\n",
    "    pass"
   ]
  },
  {
   "attachments": {},
   "cell_type": "markdown",
   "metadata": {},
   "source": [
    "### The $y$-axial equilibrium"
   ]
  },
  {
   "cell_type": "code",
   "execution_count": 17,
   "metadata": {},
   "outputs": [
    {
     "data": {
      "image/png": "[encoded data removed]",
      "text/latex": [
       "$\\displaystyle \\left[\\begin{matrix}\\varphi_{xy} + 1 & 0 & 0\\\\0 & - r_{yx} & \\frac{u_{1} \\left(p - 1\\right)}{- p + u_{2} + 1}\\\\0 & 0 & \\frac{- u_{3} \\left(p - 1\\right) + \\left(r_{zx} - u_{4}\\right) \\left(- p + u_{2} + 1\\right)}{- p + u_{2} + 1}\\end{matrix}\\right]$"
      ],
      "text/plain": [
       "⎡varphi_xy + 1    0                       0                   ⎤\n",
       "⎢                                                             ⎥\n",
       "⎢                                     u₁⋅(p - 1)              ⎥\n",
       "⎢      0        -r_yx                ───────────              ⎥\n",
       "⎢                                    -p + u₂ + 1              ⎥\n",
       "⎢                                                             ⎥\n",
       "⎢                      -u₃⋅(p - 1) + (r_zx - u₄)⋅(-p + u₂ + 1)⎥\n",
       "⎢      0          0    ───────────────────────────────────────⎥\n",
       "⎣                                    -p + u₂ + 1              ⎦"
      ]
     },
     "metadata": {},
     "output_type": "display_data"
    },
    {
     "data": {
      "image/png": "[encoded data removed]",
      "text/latex": [
       "$\\displaystyle \\left[\\begin{matrix}j_{11} & 0 & 0\\\\0 & j_{22} & j_{23}\\\\0 & 0 & j_{33}\\end{matrix}\\right]$"
      ],
      "text/plain": [
       "⎡j₁₁   0    0 ⎤\n",
       "⎢             ⎥\n",
       "⎢ 0   j₂₂  j₂₃⎥\n",
       "⎢             ⎥\n",
       "⎣ 0    0   j₃₃⎦"
      ]
     },
     "metadata": {},
     "output_type": "display_data"
    },
    {
     "data": {
      "image/png": "[encoded data removed]",
      "text/latex": [
       "$\\displaystyle - j_{11} j_{22} j_{33} + \\lambda^{3} - \\lambda^{2} \\left(j_{11} + j_{22} + j_{33}\\right) + \\lambda \\left(j_{11} j_{22} + j_{11} j_{33} + j_{22} j_{33}\\right)$"
      ],
      "text/plain": [
       "                3    2                                                    \n",
       "-j₁₁⋅j₂₂⋅j₃₃ + λ  - λ ⋅(j₁₁ + j₂₂ + j₃₃) + λ⋅(j₁₁⋅j₂₂ + j₁₁⋅j₃₃ + j₂₂⋅j₃₃)"
      ]
     },
     "metadata": {},
     "output_type": "display_data"
    },
    {
     "data": {
      "image/png": "[encoded data removed]",
      "text/latex": [
       "$\\displaystyle \\left[ j_{11}, \\  j_{22}, \\  j_{33}\\right]$"
      ],
      "text/plain": [
       "[j₁₁, j₂₂, j₃₃]"
      ]
     },
     "metadata": {},
     "output_type": "display_data"
    }
   ],
   "source": [
    "if show_stability:\n",
    "    jacobian, jacobian_s = utils.construct_jacobian(model, vars_dict, params_dict, E_y)\n",
    "    utils.stability_analysis(jacobian, jacobian_s, compact=True)\n",
    "    pass"
   ]
  },
  {
   "attachments": {},
   "cell_type": "markdown",
   "metadata": {},
   "source": [
    "### The $z$-axial equilibrium"
   ]
  },
  {
   "cell_type": "code",
   "execution_count": 18,
   "metadata": {},
   "outputs": [
    {
     "data": {
      "image/png": "[encoded data removed]",
      "text/latex": [
       "$\\displaystyle \\left[\\begin{matrix}\\frac{r_{zx} - \\varphi_{xz} \\left(r_{zx} - u_{4}\\right)}{r_{zx}} & 0 & 0\\\\0 & \\frac{r_{yx} r_{zx} u_{2} + u_{1} \\left(p - 1\\right) \\left(r_{zx} - u_{4}\\right)}{r_{zx} u_{2}} & 0\\\\0 & - \\frac{u_{3} \\left(p - 1\\right) \\left(r_{zx} - u_{4}\\right)}{r_{zx} u_{2}} & - r_{zx} + u_{4}\\end{matrix}\\right]$"
      ],
      "text/plain": [
       "⎡r_zx - varphi_xz⋅(r_zx - u₄)                                                 \n",
       "⎢────────────────────────────                    0                        0   \n",
       "⎢            r_zx                                                             \n",
       "⎢                                                                             \n",
       "⎢                              r_yx⋅r_zx⋅u₂ + u₁⋅(p - 1)⋅(r_zx - u₄)          \n",
       "⎢             0                ─────────────────────────────────────      0   \n",
       "⎢                                             r_zx⋅u₂                         \n",
       "⎢                                                                             \n",
       "⎢                                    -u₃⋅(p - 1)⋅(r_zx - u₄)                  \n",
       "⎢             0                      ────────────────────────         -r_zx + \n",
       "⎣                                            r_zx⋅u₂                          \n",
       "\n",
       "  ⎤\n",
       "  ⎥\n",
       "  ⎥\n",
       "  ⎥\n",
       "  ⎥\n",
       "  ⎥\n",
       "  ⎥\n",
       "  ⎥\n",
       "  ⎥\n",
       "u₄⎥\n",
       "  ⎦"
      ]
     },
     "metadata": {},
     "output_type": "display_data"
    },
    {
     "data": {
      "image/png": "[encoded data removed]",
      "text/latex": [
       "$\\displaystyle \\left[\\begin{matrix}j_{11} & 0 & 0\\\\0 & j_{22} & 0\\\\0 & j_{32} & j_{33}\\end{matrix}\\right]$"
      ],
      "text/plain": [
       "⎡j₁₁   0    0 ⎤\n",
       "⎢             ⎥\n",
       "⎢ 0   j₂₂   0 ⎥\n",
       "⎢             ⎥\n",
       "⎣ 0   j₃₂  j₃₃⎦"
      ]
     },
     "metadata": {},
     "output_type": "display_data"
    },
    {
     "data": {
      "image/png": "[encoded data removed]",
      "text/latex": [
       "$\\displaystyle - j_{11} j_{22} j_{33} + \\lambda^{3} - \\lambda^{2} \\left(j_{11} + j_{22} + j_{33}\\right) + \\lambda \\left(j_{11} j_{22} + j_{11} j_{33} + j_{22} j_{33}\\right)$"
      ],
      "text/plain": [
       "                3    2                                                    \n",
       "-j₁₁⋅j₂₂⋅j₃₃ + λ  - λ ⋅(j₁₁ + j₂₂ + j₃₃) + λ⋅(j₁₁⋅j₂₂ + j₁₁⋅j₃₃ + j₂₂⋅j₃₃)"
      ]
     },
     "metadata": {},
     "output_type": "display_data"
    },
    {
     "data": {
      "image/png": "[encoded data removed]",
      "text/latex": [
       "$\\displaystyle \\left[ j_{11}, \\  j_{22}, \\  j_{33}\\right]$"
      ],
      "text/plain": [
       "[j₁₁, j₂₂, j₃₃]"
      ]
     },
     "metadata": {},
     "output_type": "display_data"
    }
   ],
   "source": [
    "if show_stability:\n",
    "    jacobian, jacobian_s = utils.construct_jacobian(model, vars_dict, params_dict, E_z)\n",
    "    utils.stability_analysis(jacobian, jacobian_s, compact=True)\n",
    "    pass"
   ]
  },
  {
   "attachments": {},
   "cell_type": "markdown",
   "metadata": {},
   "source": [
    "### The $xy$-boundary equilibrium"
   ]
  },
  {
   "cell_type": "code",
   "execution_count": 19,
   "metadata": {},
   "outputs": [
    {
     "data": {
      "image/png": "[encoded data removed]",
      "text/latex": [
       "$\\displaystyle \\left[\\begin{matrix}- \\varphi_{xy} y^{2} - 1 & 2 \\varphi_{xy} y \\left(\\varphi_{xy} y^{2} + 1\\right) & - \\varphi_{xz} \\left(\\varphi_{xy} y^{2} + 1\\right)\\\\2 r_{yx} \\varphi_{yx} y \\left(\\varphi_{xy} y^{2} + 1\\right) & r_{yx} \\left(\\varphi_{yx} \\left(\\varphi_{xy} y^{2} + 1\\right)^{2} - 2 y + 1\\right) & \\frac{u_{1} y \\left(p - 1\\right)}{u_{2} - y \\left(p - 1\\right)}\\\\0 & 0 & \\frac{- u_{3} y \\left(p - 1\\right) + \\left(r_{zx} - u_{4}\\right) \\left(u_{2} - y \\left(p - 1\\right)\\right)}{u_{2} - y \\left(p - 1\\right)}\\end{matrix}\\right]$"
      ],
      "text/plain": [
       "⎡                      2                                     ⎛           2    \n",
       "⎢         - varphi_xy⋅y  - 1                   2⋅varphi_xy⋅y⋅⎝varphi_xy⋅y  + 1\n",
       "⎢                                                                             \n",
       "⎢                                            ⎛                            2   \n",
       "⎢                   ⎛           2    ⎞       ⎜          ⎛           2    ⎞    \n",
       "⎢2⋅r_yx⋅varphi_yx⋅y⋅⎝varphi_xy⋅y  + 1⎠  r_yx⋅⎝varphi_yx⋅⎝varphi_xy⋅y  + 1⎠  - \n",
       "⎢                                                                             \n",
       "⎢                                                                             \n",
       "⎢                                                                             \n",
       "⎢                  0                                          0               \n",
       "⎣                                                                             \n",
       "\n",
       "⎞                           ⎛           2    ⎞        ⎤\n",
       "⎠                -varphi_xz⋅⎝varphi_xy⋅y  + 1⎠        ⎥\n",
       "                                                      ⎥\n",
       "       ⎞                                              ⎥\n",
       "       ⎟                  u₁⋅y⋅(p - 1)                ⎥\n",
       "2⋅y + 1⎠                 ──────────────               ⎥\n",
       "                         u₂ - y⋅(p - 1)               ⎥\n",
       "                                                      ⎥\n",
       "          -u₃⋅y⋅(p - 1) + (r_zx - u₄)⋅(u₂ - y⋅(p - 1))⎥\n",
       "          ────────────────────────────────────────────⎥\n",
       "                         u₂ - y⋅(p - 1)               ⎦"
      ]
     },
     "metadata": {},
     "output_type": "display_data"
    },
    {
     "data": {
      "image/png": "[encoded data removed]",
      "text/latex": [
       "$\\displaystyle \\left[\\begin{matrix}j_{11} & j_{12} & j_{13}\\\\j_{21} & j_{22} & j_{23}\\\\0 & 0 & j_{33}\\end{matrix}\\right]$"
      ],
      "text/plain": [
       "⎡j₁₁  j₁₂  j₁₃⎤\n",
       "⎢             ⎥\n",
       "⎢j₂₁  j₂₂  j₂₃⎥\n",
       "⎢             ⎥\n",
       "⎣ 0    0   j₃₃⎦"
      ]
     },
     "metadata": {},
     "output_type": "display_data"
    },
    {
     "data": {
      "image/png": "[encoded data removed]",
      "text/latex": [
       "$\\displaystyle - j_{11} j_{22} j_{33} + j_{12} j_{21} j_{33} + \\lambda^{3} + \\lambda^{2} \\left(- j_{11} - j_{22} - j_{33}\\right) + \\lambda \\left(j_{11} j_{22} + j_{11} j_{33} - j_{12} j_{21} + j_{22} j_{33}\\right)$"
      ],
      "text/plain": [
       "                              3    2                                          \n",
       "-j₁₁⋅j₂₂⋅j₃₃ + j₁₂⋅j₂₁⋅j₃₃ + λ  + λ ⋅(-j₁₁ - j₂₂ - j₃₃) + λ⋅(j₁₁⋅j₂₂ + j₁₁⋅j₃₃\n",
       "\n",
       "                     \n",
       " - j₁₂⋅j₂₁ + j₂₂⋅j₃₃)"
      ]
     },
     "metadata": {},
     "output_type": "display_data"
    },
    {
     "name": "stdout",
     "output_type": "stream",
     "text": [
      "C_3:\n"
     ]
    },
    {
     "data": {
      "image/png": "[encoded data removed]",
      "text/latex": [
       "$\\displaystyle 1$"
      ],
      "text/plain": [
       "1"
      ]
     },
     "metadata": {},
     "output_type": "display_data"
    },
    {
     "name": "stdout",
     "output_type": "stream",
     "text": [
      "C_2:\n"
     ]
    },
    {
     "data": {
      "image/png": "[encoded data removed]",
      "text/latex": [
       "$\\displaystyle - j_{11} - j_{22} - j_{33}$"
      ],
      "text/plain": [
       "-j₁₁ - j₂₂ - j₃₃"
      ]
     },
     "metadata": {},
     "output_type": "display_data"
    },
    {
     "name": "stdout",
     "output_type": "stream",
     "text": [
      "C_1:\n"
     ]
    },
    {
     "data": {
      "image/png": "[encoded data removed]",
      "text/latex": [
       "$\\displaystyle j_{11} j_{22} + j_{11} j_{33} - j_{12} j_{21} + j_{22} j_{33}$"
      ],
      "text/plain": [
       "j₁₁⋅j₂₂ + j₁₁⋅j₃₃ - j₁₂⋅j₂₁ + j₂₂⋅j₃₃"
      ]
     },
     "metadata": {},
     "output_type": "display_data"
    },
    {
     "name": "stdout",
     "output_type": "stream",
     "text": [
      "C_0:\n"
     ]
    },
    {
     "data": {
      "image/png": "[encoded data removed]",
      "text/latex": [
       "$\\displaystyle j_{33} \\left(- j_{11} j_{22} + j_{12} j_{21}\\right)$"
      ],
      "text/plain": [
       "j₃₃⋅(-j₁₁⋅j₂₂ + j₁₂⋅j₂₁)"
      ]
     },
     "metadata": {},
     "output_type": "display_data"
    },
    {
     "name": "stdout",
     "output_type": "stream",
     "text": [
      "C_2C_1-C_0:\n"
     ]
    },
    {
     "data": {
      "image/png": "[encoded data removed]",
      "text/latex": [
       "$\\displaystyle j_{11} j_{22} j_{33} - j_{12} j_{21} j_{33} - \\left(j_{11} + j_{22} + j_{33}\\right) \\left(j_{11} j_{22} + j_{11} j_{33} - j_{12} j_{21} + j_{22} j_{33}\\right)$"
      ],
      "text/plain": [
       "j₁₁⋅j₂₂⋅j₃₃ - j₁₂⋅j₂₁⋅j₃₃ - (j₁₁ + j₂₂ + j₃₃)⋅(j₁₁⋅j₂₂ + j₁₁⋅j₃₃ - j₁₂⋅j₂₁ + j\n",
       "₂₂⋅j₃₃)"
      ]
     },
     "metadata": {},
     "output_type": "display_data"
    }
   ],
   "source": [
    "if show_stability:\n",
    "    jacobian, jacobian_s = utils.construct_jacobian(model, vars_dict, params_dict, E_xy)\n",
    "    utils.stability_analysis(jacobian, jacobian_s, compact=True, method=\"RHC\")\n",
    "    pass"
   ]
  },
  {
   "attachments": {},
   "cell_type": "markdown",
   "metadata": {},
   "source": [
    "### The $xz$-boundary equilibrium"
   ]
  },
  {
   "cell_type": "code",
   "execution_count": 20,
   "metadata": {},
   "outputs": [
    {
     "data": {
      "image/png": "[encoded data removed]",
      "text/latex": [
       "$\\displaystyle \\left[\\begin{matrix}\\frac{- r_{zx} + \\varphi_{xz} \\left(r_{zx} - u_{4}\\right)}{r_{zx}} & 0 & - \\frac{\\varphi_{xz} \\left(r_{zx} - \\varphi_{xz} \\left(r_{zx} - u_{4}\\right)\\right)}{r_{zx}}\\\\0 & \\frac{r_{yx} u_{2} \\left(r_{zx}^{2} + \\varphi_{yx} \\left(r_{zx} - \\varphi_{xz} \\left(r_{zx} - u_{4}\\right)\\right)^{2}\\right) + r_{zx} u_{1} \\left(p - 1\\right) \\left(r_{zx} - u_{4}\\right)}{r_{zx}^{2} u_{2}} & 0\\\\0 & - \\frac{u_{3} \\left(p - 1\\right) \\left(r_{zx} - u_{4}\\right)}{r_{zx} u_{2}} & - r_{zx} + u_{4}\\end{matrix}\\right]$"
      ],
      "text/plain": [
       "⎡-r_zx + varphi_xz⋅(r_zx - u₄)                                                \n",
       "⎢─────────────────────────────                                              0 \n",
       "⎢             r_zx                                                            \n",
       "⎢                                                                             \n",
       "⎢                                       ⎛    2                                \n",
       "⎢                               r_yx⋅u₂⋅⎝r_zx  + varphi_yx⋅(r_zx - varphi_xz⋅(\n",
       "⎢              0                ──────────────────────────────────────────────\n",
       "⎢                                                                            2\n",
       "⎢                                                                        r_zx \n",
       "⎢                                                                             \n",
       "⎢                                                               -u₃⋅(p - 1)⋅(r\n",
       "⎢              0                                                ──────────────\n",
       "⎣                                                                       r_zx⋅u\n",
       "\n",
       "                                             -varphi_xz⋅(r_zx - varphi_xz⋅(r_z\n",
       "                                             ─────────────────────────────────\n",
       "                                                                r_zx          \n",
       "                                                                              \n",
       "           2⎞                                                                 \n",
       "r_zx - u₄)) ⎠ + r_zx⋅u₁⋅(p - 1)⋅(r_zx - u₄)                                   \n",
       "───────────────────────────────────────────                      0            \n",
       "                                                                              \n",
       "⋅u₂                                                                           \n",
       "                                                                              \n",
       "_zx - u₄)                                                                     \n",
       "──────────                                                   -r_zx + u₄       \n",
       "₂                                                                             \n",
       "\n",
       "x - u₄)) ⎤\n",
       "─────────⎥\n",
       "         ⎥\n",
       "         ⎥\n",
       "         ⎥\n",
       "         ⎥\n",
       "         ⎥\n",
       "         ⎥\n",
       "         ⎥\n",
       "         ⎥\n",
       "         ⎥\n",
       "         ⎥\n",
       "         ⎦"
      ]
     },
     "metadata": {},
     "output_type": "display_data"
    },
    {
     "data": {
      "image/png": "[encoded data removed]",
      "text/latex": [
       "$\\displaystyle \\left[\\begin{matrix}j_{11} & 0 & j_{13}\\\\0 & j_{22} & 0\\\\0 & j_{32} & j_{33}\\end{matrix}\\right]$"
      ],
      "text/plain": [
       "⎡j₁₁   0   j₁₃⎤\n",
       "⎢             ⎥\n",
       "⎢ 0   j₂₂   0 ⎥\n",
       "⎢             ⎥\n",
       "⎣ 0   j₃₂  j₃₃⎦"
      ]
     },
     "metadata": {},
     "output_type": "display_data"
    },
    {
     "data": {
      "image/png": "[encoded data removed]",
      "text/latex": [
       "$\\displaystyle - j_{11} j_{22} j_{33} + \\lambda^{3} - \\lambda^{2} \\left(j_{11} + j_{22} + j_{33}\\right) + \\lambda \\left(j_{11} j_{22} + j_{11} j_{33} + j_{22} j_{33}\\right)$"
      ],
      "text/plain": [
       "                3    2                                                    \n",
       "-j₁₁⋅j₂₂⋅j₃₃ + λ  - λ ⋅(j₁₁ + j₂₂ + j₃₃) + λ⋅(j₁₁⋅j₂₂ + j₁₁⋅j₃₃ + j₂₂⋅j₃₃)"
      ]
     },
     "metadata": {},
     "output_type": "display_data"
    },
    {
     "data": {
      "image/png": "[encoded data removed]",
      "text/latex": [
       "$\\displaystyle \\left[ j_{11}, \\  j_{22}, \\  j_{33}\\right]$"
      ],
      "text/plain": [
       "[j₁₁, j₂₂, j₃₃]"
      ]
     },
     "metadata": {},
     "output_type": "display_data"
    }
   ],
   "source": [
    "if show_stability:\n",
    "    jacobian, jacobian_s = utils.construct_jacobian(model, vars_dict, params_dict, E_xz)\n",
    "    utils.stability_analysis(jacobian, jacobian_s, compact=True)\n",
    "    pass"
   ]
  },
  {
   "attachments": {},
   "cell_type": "markdown",
   "metadata": {},
   "source": [
    "### The $yz$-boundary equilibrium"
   ]
  },
  {
   "cell_type": "code",
   "execution_count": 21,
   "metadata": {},
   "outputs": [
    {
     "data": {
      "image/png": "[encoded data removed]",
      "text/latex": [
       "$\\displaystyle \\left[\\begin{matrix}\\varphi_{xy} y^{2} - \\varphi_{xz} \\left(1 - \\frac{\\frac{u_{3} y \\left(p - 1\\right)}{u_{2} - y \\left(p - 1\\right)} + u_{4}}{r_{zx}}\\right) + 1 & 0 & 0\\\\0 & \\frac{r_{yx} r_{zx} \\left(1 - 2 y\\right) \\left(u_{2} - y \\left(p - 1\\right)\\right)^{3} + u_{1} y \\left(p - 1\\right)^{2} \\left(r_{zx} \\left(u_{2} - y \\left(p - 1\\right)\\right) - u_{3} y \\left(p - 1\\right) - u_{4} \\left(u_{2} - y \\left(p - 1\\right)\\right)\\right) + u_{1} \\left(p - 1\\right) \\left(u_{2} - y \\left(p - 1\\right)\\right) \\left(r_{zx} \\left(u_{2} - y \\left(p - 1\\right)\\right) - u_{3} y \\left(p - 1\\right) - u_{4} \\left(u_{2} - y \\left(p - 1\\right)\\right)\\right)}{r_{zx} \\left(u_{2} - y \\left(p - 1\\right)\\right)^{3}} & \\frac{u_{1} y \\left(p - 1\\right)}{u_{2} - y \\left(p - 1\\right)}\\\\0 & \\frac{u_{2} u_{3} \\left(p - 1\\right) \\left(- r_{zx} \\left(u_{2} - y \\left(p - 1\\right)\\right) + u_{3} y \\left(p - 1\\right) + u_{4} \\left(u_{2} - y \\left(p - 1\\right)\\right)\\right)}{r_{zx} \\left(u_{2} - y \\left(p - 1\\right)\\right)^{3}} & \\frac{- r_{zx} \\left(u_{2} - y \\left(p - 1\\right)\\right) + u_{3} y \\left(p - 1\\right) + u_{4} \\left(u_{2} - y \\left(p - 1\\right)\\right)}{u_{2} - y \\left(p - 1\\right)}\\end{matrix}\\right]$"
      ],
      "text/plain": [
       "⎡                         ⎛     u₃⋅y⋅(p - 1)      ⎞                           \n",
       "⎢                         ⎜    ────────────── + u₄⎟                           \n",
       "⎢           2             ⎜    u₂ - y⋅(p - 1)     ⎟                           \n",
       "⎢varphi_xy⋅y  - varphi_xz⋅⎜1 - ───────────────────⎟ + 1                       \n",
       "⎢                         ⎝            r_zx       ⎠                           \n",
       "⎢                                                                             \n",
       "⎢                                                                             \n",
       "⎢                                                        r_yx⋅r_zx⋅(1 - 2⋅y)⋅(\n",
       "⎢                          0                             ─────────────────────\n",
       "⎢                                                                             \n",
       "⎢                                                                             \n",
       "⎢                                                                             \n",
       "⎢                                                                             \n",
       "⎢                          0                                                  \n",
       "⎢                                                                             \n",
       "⎣                                                                             \n",
       "\n",
       "                                                                              \n",
       "                                                                              \n",
       "                                                                              \n",
       "                                                                              \n",
       "                                                                              \n",
       "                                                                              \n",
       "               3               2                                              \n",
       "u₂ - y⋅(p - 1))  + u₁⋅y⋅(p - 1) ⋅(r_zx⋅(u₂ - y⋅(p - 1)) - u₃⋅y⋅(p - 1) - u₄⋅(u\n",
       "──────────────────────────────────────────────────────────────────────────────\n",
       "                                                                              \n",
       "                                                                       r_zx⋅(u\n",
       "                                                                              \n",
       "                                            u₂⋅u₃⋅(p - 1)⋅(-r_zx⋅(u₂ - y⋅(p - \n",
       "                                            ──────────────────────────────────\n",
       "                                                                              \n",
       "                                                                       r_zx⋅(u\n",
       "\n",
       "                                                                              \n",
       "                                                                              \n",
       "                                                                              \n",
       "   0                                                                          \n",
       "                                                                              \n",
       "                                                                              \n",
       "                                                                              \n",
       "₂ - y⋅(p - 1))) + u₁⋅(p - 1)⋅(u₂ - y⋅(p - 1))⋅(r_zx⋅(u₂ - y⋅(p - 1)) - u₃⋅y⋅(p\n",
       "──────────────────────────────────────────────────────────────────────────────\n",
       "              3                                                               \n",
       "₂ - y⋅(p - 1))                                                                \n",
       "                                                                              \n",
       "1)) + u₃⋅y⋅(p - 1) + u₄⋅(u₂ - y⋅(p - 1)))                                     \n",
       "─────────────────────────────────────────                                     \n",
       "              3                                                               \n",
       "₂ - y⋅(p - 1))                                                                \n",
       "\n",
       "                                                                              \n",
       "                                                                              \n",
       "                                                                              \n",
       "                                                           0                  \n",
       "                                                                              \n",
       "                                                                              \n",
       "                                                                              \n",
       " - 1) - u₄⋅(u₂ - y⋅(p - 1)))                         u₁⋅y⋅(p - 1)             \n",
       "────────────────────────────                        ──────────────            \n",
       "                                                    u₂ - y⋅(p - 1)            \n",
       "                                                                              \n",
       "                                                                              \n",
       "                              -r_zx⋅(u₂ - y⋅(p - 1)) + u₃⋅y⋅(p - 1) + u₄⋅(u₂ -\n",
       "                              ────────────────────────────────────────────────\n",
       "                                                     u₂ - y⋅(p - 1)           \n",
       "                                                                              \n",
       "\n",
       "           ⎤\n",
       "           ⎥\n",
       "           ⎥\n",
       "           ⎥\n",
       "           ⎥\n",
       "           ⎥\n",
       "           ⎥\n",
       "           ⎥\n",
       "           ⎥\n",
       "           ⎥\n",
       "           ⎥\n",
       "           ⎥\n",
       " y⋅(p - 1))⎥\n",
       "───────────⎥\n",
       "           ⎥\n",
       "           ⎦"
      ]
     },
     "metadata": {},
     "output_type": "display_data"
    },
    {
     "data": {
      "image/png": "[encoded data removed]",
      "text/latex": [
       "$\\displaystyle \\left[\\begin{matrix}j_{11} & 0 & 0\\\\0 & j_{22} & j_{23}\\\\0 & j_{32} & j_{33}\\end{matrix}\\right]$"
      ],
      "text/plain": [
       "⎡j₁₁   0    0 ⎤\n",
       "⎢             ⎥\n",
       "⎢ 0   j₂₂  j₂₃⎥\n",
       "⎢             ⎥\n",
       "⎣ 0   j₃₂  j₃₃⎦"
      ]
     },
     "metadata": {},
     "output_type": "display_data"
    },
    {
     "data": {
      "image/png": "[encoded data removed]",
      "text/latex": [
       "$\\displaystyle - j_{11} j_{22} j_{33} + j_{11} j_{23} j_{32} + \\lambda^{3} + \\lambda^{2} \\left(- j_{11} - j_{22} - j_{33}\\right) + \\lambda \\left(j_{11} j_{22} + j_{11} j_{33} + j_{22} j_{33} - j_{23} j_{32}\\right)$"
      ],
      "text/plain": [
       "                              3    2                                          \n",
       "-j₁₁⋅j₂₂⋅j₃₃ + j₁₁⋅j₂₃⋅j₃₂ + λ  + λ ⋅(-j₁₁ - j₂₂ - j₃₃) + λ⋅(j₁₁⋅j₂₂ + j₁₁⋅j₃₃\n",
       "\n",
       "                     \n",
       " + j₂₂⋅j₃₃ - j₂₃⋅j₃₂)"
      ]
     },
     "metadata": {},
     "output_type": "display_data"
    },
    {
     "name": "stdout",
     "output_type": "stream",
     "text": [
      "C_3:\n"
     ]
    },
    {
     "data": {
      "image/png": "[encoded data removed]",
      "text/latex": [
       "$\\displaystyle 1$"
      ],
      "text/plain": [
       "1"
      ]
     },
     "metadata": {},
     "output_type": "display_data"
    },
    {
     "name": "stdout",
     "output_type": "stream",
     "text": [
      "C_2:\n"
     ]
    },
    {
     "data": {
      "image/png": "[encoded data removed]",
      "text/latex": [
       "$\\displaystyle - j_{11} - j_{22} - j_{33}$"
      ],
      "text/plain": [
       "-j₁₁ - j₂₂ - j₃₃"
      ]
     },
     "metadata": {},
     "output_type": "display_data"
    },
    {
     "name": "stdout",
     "output_type": "stream",
     "text": [
      "C_1:\n"
     ]
    },
    {
     "data": {
      "image/png": "[encoded data removed]",
      "text/latex": [
       "$\\displaystyle j_{11} j_{22} + j_{11} j_{33} + j_{22} j_{33} - j_{23} j_{32}$"
      ],
      "text/plain": [
       "j₁₁⋅j₂₂ + j₁₁⋅j₃₃ + j₂₂⋅j₃₃ - j₂₃⋅j₃₂"
      ]
     },
     "metadata": {},
     "output_type": "display_data"
    },
    {
     "name": "stdout",
     "output_type": "stream",
     "text": [
      "C_0:\n"
     ]
    },
    {
     "data": {
      "image/png": "[encoded data removed]",
      "text/latex": [
       "$\\displaystyle j_{11} \\left(- j_{22} j_{33} + j_{23} j_{32}\\right)$"
      ],
      "text/plain": [
       "j₁₁⋅(-j₂₂⋅j₃₃ + j₂₃⋅j₃₂)"
      ]
     },
     "metadata": {},
     "output_type": "display_data"
    },
    {
     "name": "stdout",
     "output_type": "stream",
     "text": [
      "C_2C_1-C_0:\n"
     ]
    },
    {
     "data": {
      "image/png": "[encoded data removed]",
      "text/latex": [
       "$\\displaystyle j_{11} j_{22} j_{33} - j_{11} j_{23} j_{32} - \\left(j_{11} + j_{22} + j_{33}\\right) \\left(j_{11} j_{22} + j_{11} j_{33} + j_{22} j_{33} - j_{23} j_{32}\\right)$"
      ],
      "text/plain": [
       "j₁₁⋅j₂₂⋅j₃₃ - j₁₁⋅j₂₃⋅j₃₂ - (j₁₁ + j₂₂ + j₃₃)⋅(j₁₁⋅j₂₂ + j₁₁⋅j₃₃ + j₂₂⋅j₃₃ - j\n",
       "₂₃⋅j₃₂)"
      ]
     },
     "metadata": {},
     "output_type": "display_data"
    }
   ],
   "source": [
    "if show_stability:\n",
    "    jacobian, jacobian_s = utils.construct_jacobian(model, vars_dict, params_dict, E_yz)\n",
    "    utils.stability_analysis(jacobian, jacobian_s, compact=True, method=\"RHC\")\n",
    "    pass"
   ]
  },
  {
   "attachments": {},
   "cell_type": "markdown",
   "metadata": {},
   "source": [
    "### The interior equilibrium"
   ]
  },
  {
   "cell_type": "code",
   "execution_count": 22,
   "metadata": {},
   "outputs": [
    {
     "data": {
      "image/png": "[encoded data removed]",
      "text/latex": [
       "$\\displaystyle \\left[\\begin{matrix}- \\varphi_{xy} y^{2} + \\varphi_{xz} \\left(1 - \\frac{\\frac{u_{3} y \\left(p - 1\\right)}{u_{2} - y \\left(p - 1\\right)} + u_{4}}{r_{zx}}\\right) - 1 & 2 \\varphi_{xy} y \\left(\\varphi_{xy} y^{2} - \\varphi_{xz} \\left(1 - \\frac{\\frac{u_{3} y \\left(p - 1\\right)}{u_{2} - y \\left(p - 1\\right)} + u_{4}}{r_{zx}}\\right) + 1\\right) & - \\varphi_{xz} \\left(\\varphi_{xy} y^{2} - \\varphi_{xz} \\left(1 - \\frac{\\frac{u_{3} y \\left(p - 1\\right)}{u_{2} - y \\left(p - 1\\right)} + u_{4}}{r_{zx}}\\right) + 1\\right)\\\\\\frac{2 r_{yx} \\varphi_{yx} y \\left(r_{zx} \\left(u_{2} - y \\left(p - 1\\right)\\right) \\left(\\varphi_{xy} y^{2} + 1\\right) - \\varphi_{xz} \\left(r_{zx} \\left(u_{2} - y \\left(p - 1\\right)\\right) - u_{3} y \\left(p - 1\\right) - u_{4} \\left(u_{2} - y \\left(p - 1\\right)\\right)\\right)\\right)}{r_{zx} \\left(u_{2} - y \\left(p - 1\\right)\\right)} & \\frac{- r_{yx} r_{zx}^{2} y \\left(u_{2} - y \\left(p - 1\\right)\\right)^{3} + r_{yx} \\left(u_{2} - y \\left(p - 1\\right)\\right) \\left(r_{zx}^{2} \\cdot \\left(1 - y\\right) \\left(u_{2} - y \\left(p - 1\\right)\\right)^{2} + \\varphi_{yx} \\left(r_{zx} \\left(u_{2} - y \\left(p - 1\\right)\\right) \\left(\\varphi_{xy} y^{2} + 1\\right) - \\varphi_{xz} \\left(r_{zx} \\left(u_{2} - y \\left(p - 1\\right)\\right) - u_{3} y \\left(p - 1\\right) - u_{4} \\left(u_{2} - y \\left(p - 1\\right)\\right)\\right)\\right)^{2}\\right) + r_{zx} u_{1} y \\left(p - 1\\right)^{2} \\left(r_{zx} \\left(u_{2} - y \\left(p - 1\\right)\\right) - u_{3} y \\left(p - 1\\right) - u_{4} \\left(u_{2} - y \\left(p - 1\\right)\\right)\\right) + r_{zx} u_{1} \\left(p - 1\\right) \\left(u_{2} - y \\left(p - 1\\right)\\right) \\left(r_{zx} \\left(u_{2} - y \\left(p - 1\\right)\\right) - u_{3} y \\left(p - 1\\right) - u_{4} \\left(u_{2} - y \\left(p - 1\\right)\\right)\\right)}{r_{zx}^{2} \\left(u_{2} - y \\left(p - 1\\right)\\right)^{3}} & \\frac{u_{1} y \\left(p - 1\\right)}{u_{2} - y \\left(p - 1\\right)}\\\\0 & \\frac{u_{2} u_{3} \\left(p - 1\\right) \\left(- r_{zx} \\left(u_{2} - y \\left(p - 1\\right)\\right) + u_{3} y \\left(p - 1\\right) + u_{4} \\left(u_{2} - y \\left(p - 1\\right)\\right)\\right)}{r_{zx} \\left(u_{2} - y \\left(p - 1\\right)\\right)^{3}} & \\frac{- r_{zx} \\left(u_{2} - y \\left(p - 1\\right)\\right) + u_{3} y \\left(p - 1\\right) + u_{4} \\left(u_{2} - y \\left(p - 1\\right)\\right)}{u_{2} - y \\left(p - 1\\right)}\\end{matrix}\\right]$"
      ],
      "text/plain": [
       "⎡                                                                  ⎛     u₃⋅y⋅\n",
       "⎢                                                                  ⎜    ──────\n",
       "⎢                                                    2             ⎜    u₂ - y\n",
       "⎢                                       - varphi_xy⋅y  + varphi_xz⋅⎜1 - ──────\n",
       "⎢                                                                  ⎝          \n",
       "⎢                                                                             \n",
       "⎢                                                                             \n",
       "⎢                   ⎛                      ⎛           2    ⎞                 \n",
       "⎢2⋅r_yx⋅varphi_yx⋅y⋅⎝r_zx⋅(u₂ - y⋅(p - 1))⋅⎝varphi_xy⋅y  + 1⎠ - varphi_xz⋅(r_z\n",
       "⎢─────────────────────────────────────────────────────────────────────────────\n",
       "⎢                                                        r_zx⋅(u₂ - y⋅(p - 1))\n",
       "⎢                                                                             \n",
       "⎢                                                                             \n",
       "⎢                                                                             \n",
       "⎢                                                                  0          \n",
       "⎢                                                                             \n",
       "⎣                                                                             \n",
       "\n",
       "(p - 1)      ⎞                                                                \n",
       "──────── + u₄⎟                                                                \n",
       "⋅(p - 1)     ⎟                                                                \n",
       "─────────────⎟ - 1                                                            \n",
       "  r_zx       ⎠                                                                \n",
       "                                                                              \n",
       "                                                                              \n",
       "                                                        ⎞             2       \n",
       "x⋅(u₂ - y⋅(p - 1)) - u₃⋅y⋅(p - 1) - u₄⋅(u₂ - y⋅(p - 1)))⎠  - r_yx⋅r_zx ⋅y⋅(u₂ \n",
       "─────────────────────────────────────────────────────────  ───────────────────\n",
       "                                                                              \n",
       "                                                                              \n",
       "                                                                              \n",
       "                                                                              \n",
       "                                                                              \n",
       "                                                                              \n",
       "                                                                              \n",
       "\n",
       "                                                                              \n",
       "                                                                              \n",
       "                                                                              \n",
       "                                                                              \n",
       "                                                                              \n",
       "                                                                              \n",
       "                                      ⎛                                       \n",
       "            3                         ⎜    2                         2        \n",
       "- y⋅(p - 1))  + r_yx⋅(u₂ - y⋅(p - 1))⋅⎝r_zx ⋅(1 - y)⋅(u₂ - y⋅(p - 1))  + varph\n",
       "──────────────────────────────────────────────────────────────────────────────\n",
       "                                                                              \n",
       "                                                                              \n",
       "                                                                              \n",
       "                                                                              \n",
       "                                                                              \n",
       "                                                                              \n",
       "                                                                              \n",
       "\n",
       "                                                                              \n",
       "                                                                              \n",
       "                                                                              \n",
       "                                                                  2⋅varphi_xy⋅\n",
       "                                                                              \n",
       "                                                                              \n",
       "                                                                              \n",
       "     ⎛                      ⎛           2    ⎞                                \n",
       "i_yx⋅⎝r_zx⋅(u₂ - y⋅(p - 1))⋅⎝varphi_xy⋅y  + 1⎠ - varphi_xz⋅(r_zx⋅(u₂ - y⋅(p - \n",
       "──────────────────────────────────────────────────────────────────────────────\n",
       "                                                                              \n",
       "                                                                              \n",
       "                                                                              \n",
       "                                                                u₂⋅u₃⋅(p - 1)⋅\n",
       "                                                                ──────────────\n",
       "                                                                              \n",
       "                                                                              \n",
       "\n",
       "  ⎛                         ⎛     u₃⋅y⋅(p - 1)      ⎞    ⎞                    \n",
       "  ⎜                         ⎜    ────────────── + u₄⎟    ⎟                    \n",
       "  ⎜           2             ⎜    u₂ - y⋅(p - 1)     ⎟    ⎟                    \n",
       "y⋅⎜varphi_xy⋅y  - varphi_xz⋅⎜1 - ───────────────────⎟ + 1⎟                    \n",
       "  ⎝                         ⎝            r_zx       ⎠    ⎠                    \n",
       "                                                                              \n",
       "                                          2⎞                                  \n",
       "                                         ⎞ ⎟                    2             \n",
       "1)) - u₃⋅y⋅(p - 1) - u₄⋅(u₂ - y⋅(p - 1)))⎠ ⎠ + r_zx⋅u₁⋅y⋅(p - 1) ⋅(r_zx⋅(u₂ - \n",
       "──────────────────────────────────────────────────────────────────────────────\n",
       "                2                 3                                           \n",
       "            r_zx ⋅(u₂ - y⋅(p - 1))                                            \n",
       "                                                                              \n",
       "(-r_zx⋅(u₂ - y⋅(p - 1)) + u₃⋅y⋅(p - 1) + u₄⋅(u₂ - y⋅(p - 1)))                 \n",
       "─────────────────────────────────────────────────────────────                 \n",
       "                                  3                                           \n",
       "             r_zx⋅(u₂ - y⋅(p - 1))                                            \n",
       "\n",
       "                                                                              \n",
       "                                                                              \n",
       "                                                                              \n",
       "                                                                              \n",
       "                                                                              \n",
       "                                                                              \n",
       "                                                                              \n",
       "                                                                              \n",
       "y⋅(p - 1)) - u₃⋅y⋅(p - 1) - u₄⋅(u₂ - y⋅(p - 1))) + r_zx⋅u₁⋅(p - 1)⋅(u₂ - y⋅(p \n",
       "──────────────────────────────────────────────────────────────────────────────\n",
       "                                                                              \n",
       "                                                                              \n",
       "                                                                              \n",
       "                                                                              \n",
       "                                                                              \n",
       "                                                                              \n",
       "                                                                              \n",
       "\n",
       "                                                                              \n",
       "                                                                              \n",
       "                                                                              \n",
       "                                                                    -varphi_xz\n",
       "                                                                              \n",
       "                                                                              \n",
       "                                                                              \n",
       "                                                                              \n",
       "- 1))⋅(r_zx⋅(u₂ - y⋅(p - 1)) - u₃⋅y⋅(p - 1) - u₄⋅(u₂ - y⋅(p - 1)))            \n",
       "──────────────────────────────────────────────────────────────────            \n",
       "                                                                              \n",
       "                                                                              \n",
       "                                                                              \n",
       "                                                                        -r_zx⋅\n",
       "                                                                        ──────\n",
       "                                                                              \n",
       "                                                                              \n",
       "\n",
       " ⎛                         ⎛     u₃⋅y⋅(p - 1)      ⎞    ⎞⎤\n",
       " ⎜                         ⎜    ────────────── + u₄⎟    ⎟⎥\n",
       " ⎜           2             ⎜    u₂ - y⋅(p - 1)     ⎟    ⎟⎥\n",
       "⋅⎜varphi_xy⋅y  - varphi_xz⋅⎜1 - ───────────────────⎟ + 1⎟⎥\n",
       " ⎝                         ⎝            r_zx       ⎠    ⎠⎥\n",
       "                                                         ⎥\n",
       "                                                         ⎥\n",
       "                                                         ⎥\n",
       "                 u₁⋅y⋅(p - 1)                            ⎥\n",
       "                ──────────────                           ⎥\n",
       "                u₂ - y⋅(p - 1)                           ⎥\n",
       "                                                         ⎥\n",
       "                                                         ⎥\n",
       "(u₂ - y⋅(p - 1)) + u₃⋅y⋅(p - 1) + u₄⋅(u₂ - y⋅(p - 1))    ⎥\n",
       "─────────────────────────────────────────────────────    ⎥\n",
       "                 u₂ - y⋅(p - 1)                          ⎥\n",
       "                                                         ⎦"
      ]
     },
     "metadata": {},
     "output_type": "display_data"
    },
    {
     "data": {
      "image/png": "[encoded data removed]",
      "text/latex": [
       "$\\displaystyle \\left[\\begin{matrix}j_{11} & j_{12} & j_{13}\\\\j_{21} & j_{22} & j_{23}\\\\0 & j_{32} & j_{33}\\end{matrix}\\right]$"
      ],
      "text/plain": [
       "⎡j₁₁  j₁₂  j₁₃⎤\n",
       "⎢             ⎥\n",
       "⎢j₂₁  j₂₂  j₂₃⎥\n",
       "⎢             ⎥\n",
       "⎣ 0   j₃₂  j₃₃⎦"
      ]
     },
     "metadata": {},
     "output_type": "display_data"
    },
    {
     "data": {
      "image/png": "[encoded data removed]",
      "text/latex": [
       "$\\displaystyle - j_{11} j_{22} j_{33} + j_{11} j_{23} j_{32} + j_{12} j_{21} j_{33} - j_{13} j_{21} j_{32} + \\lambda^{3} + \\lambda^{2} \\left(- j_{11} - j_{22} - j_{33}\\right) + \\lambda \\left(j_{11} j_{22} + j_{11} j_{33} - j_{12} j_{21} + j_{22} j_{33} - j_{23} j_{32}\\right)$"
      ],
      "text/plain": [
       "                                                          3    2              \n",
       "-j₁₁⋅j₂₂⋅j₃₃ + j₁₁⋅j₂₃⋅j₃₂ + j₁₂⋅j₂₁⋅j₃₃ - j₁₃⋅j₂₁⋅j₃₂ + λ  + λ ⋅(-j₁₁ - j₂₂ -\n",
       "\n",
       "                                                           \n",
       " j₃₃) + λ⋅(j₁₁⋅j₂₂ + j₁₁⋅j₃₃ - j₁₂⋅j₂₁ + j₂₂⋅j₃₃ - j₂₃⋅j₃₂)"
      ]
     },
     "metadata": {},
     "output_type": "display_data"
    },
    {
     "name": "stdout",
     "output_type": "stream",
     "text": [
      "C_3:\n"
     ]
    },
    {
     "data": {
      "image/png": "[encoded data removed]",
      "text/latex": [
       "$\\displaystyle 1$"
      ],
      "text/plain": [
       "1"
      ]
     },
     "metadata": {},
     "output_type": "display_data"
    },
    {
     "name": "stdout",
     "output_type": "stream",
     "text": [
      "C_2:\n"
     ]
    },
    {
     "data": {
      "image/png": "[encoded data removed]",
      "text/latex": [
       "$\\displaystyle - j_{11} - j_{22} - j_{33}$"
      ],
      "text/plain": [
       "-j₁₁ - j₂₂ - j₃₃"
      ]
     },
     "metadata": {},
     "output_type": "display_data"
    },
    {
     "name": "stdout",
     "output_type": "stream",
     "text": [
      "C_1:\n"
     ]
    },
    {
     "data": {
      "image/png": "[encoded data removed]",
      "text/latex": [
       "$\\displaystyle j_{11} j_{22} + j_{11} j_{33} - j_{12} j_{21} + j_{22} j_{33} - j_{23} j_{32}$"
      ],
      "text/plain": [
       "j₁₁⋅j₂₂ + j₁₁⋅j₃₃ - j₁₂⋅j₂₁ + j₂₂⋅j₃₃ - j₂₃⋅j₃₂"
      ]
     },
     "metadata": {},
     "output_type": "display_data"
    },
    {
     "name": "stdout",
     "output_type": "stream",
     "text": [
      "C_0:\n"
     ]
    },
    {
     "data": {
      "image/png": "[encoded data removed]",
      "text/latex": [
       "$\\displaystyle - j_{11} j_{22} j_{33} + j_{11} j_{23} j_{32} + j_{12} j_{21} j_{33} - j_{13} j_{21} j_{32}$"
      ],
      "text/plain": [
       "-j₁₁⋅j₂₂⋅j₃₃ + j₁₁⋅j₂₃⋅j₃₂ + j₁₂⋅j₂₁⋅j₃₃ - j₁₃⋅j₂₁⋅j₃₂"
      ]
     },
     "metadata": {},
     "output_type": "display_data"
    },
    {
     "name": "stdout",
     "output_type": "stream",
     "text": [
      "C_2C_1-C_0:\n"
     ]
    },
    {
     "data": {
      "image/png": "[encoded data removed]",
      "text/latex": [
       "$\\displaystyle j_{11} j_{22} j_{33} - j_{11} j_{23} j_{32} - j_{12} j_{21} j_{33} + j_{13} j_{21} j_{32} - \\left(j_{11} + j_{22} + j_{33}\\right) \\left(j_{11} j_{22} + j_{11} j_{33} - j_{12} j_{21} + j_{22} j_{33} - j_{23} j_{32}\\right)$"
      ],
      "text/plain": [
       "j₁₁⋅j₂₂⋅j₃₃ - j₁₁⋅j₂₃⋅j₃₂ - j₁₂⋅j₂₁⋅j₃₃ + j₁₃⋅j₂₁⋅j₃₂ - (j₁₁ + j₂₂ + j₃₃)⋅(j₁₁\n",
       "⋅j₂₂ + j₁₁⋅j₃₃ - j₁₂⋅j₂₁ + j₂₂⋅j₃₃ - j₂₃⋅j₃₂)"
      ]
     },
     "metadata": {},
     "output_type": "display_data"
    }
   ],
   "source": [
    "if show_stability:\n",
    "    jacobian, jacobian_s = utils.construct_jacobian(model, vars_dict, params_dict, E_xyz)\n",
    "    utils.stability_analysis(jacobian, jacobian_s, compact=True, method=\"RHC\")\n",
    "    pass"
   ]
  },
  {
   "attachments": {},
   "cell_type": "markdown",
   "metadata": {},
   "source": [
    "## Numerical analysis of stable equilibria\n",
    "### The $z$-axial equilibrium"
   ]
  },
  {
   "cell_type": "code",
   "execution_count": null,
   "metadata": {},
   "outputs": [],
   "source": [
    "param_values = [0.404, 0.903, 0.182, 0.639, 0.283, 0.301, 0.110, 0.645, 0.175, 0.145]\n",
    "\n",
    "ts, sol = utils.solve_model(model, t_max, vars_dict, param_values)\n",
    "\n",
    "title = \"Time Evolution of Each Species\"\n",
    "xaxis = \"Time in Days\"\n",
    "yaxis = \"Population size\"\n",
    "\n",
    "filename = \"equilibrium-axial-z\"\n",
    "\n",
    "utils.my_plot(ts, sol, title, xaxis, yaxis, labels_colors_dict, filename=filename)"
   ]
  },
  {
   "attachments": {},
   "cell_type": "markdown",
   "metadata": {},
   "source": [
    "### The $xy$-boundary equilibrium"
   ]
  },
  {
   "cell_type": "code",
   "execution_count": null,
   "metadata": {},
   "outputs": [],
   "source": [
    "param_values = [0.978, 0.613, 0.326, 0.245, 0.015, 0.920, 0.696, 0.523, 0.951, 0.570]\n",
    "\n",
    "ts, sol = utils.solve_model(model, t_max, vars_dict, param_values)\n",
    "\n",
    "filename = \"equilibrium-boundary-xy\"\n",
    "\n",
    "utils.my_plot(ts, sol, title, xaxis, yaxis, labels_colors_dict, filename=filename)"
   ]
  },
  {
   "attachments": {},
   "cell_type": "markdown",
   "metadata": {},
   "source": [
    "### The $xz$-boundary equilibrium"
   ]
  },
  {
   "cell_type": "code",
   "execution_count": null,
   "metadata": {},
   "outputs": [],
   "source": [
    "param_values = [0.102, 0.763, 0.271, 0.182, 0.301, 0.109, 0.198, 0.983, 0.186, 0.113]\n",
    "\n",
    "ts, sol = utils.solve_model(model, t_max, vars_dict, param_values)\n",
    "\n",
    "filename = \"equilibrium-boundary-xz\"\n",
    "\n",
    "utils.my_plot(ts, sol, title, xaxis, yaxis, labels_colors_dict, filename=filename)"
   ]
  },
  {
   "attachments": {},
   "cell_type": "markdown",
   "metadata": {},
   "source": [
    "### The $yz$-boundary equilibrium"
   ]
  },
  {
   "cell_type": "code",
   "execution_count": null,
   "metadata": {},
   "outputs": [],
   "source": [
    "param_values = [0.978, 0.310, 0.843, 0.002, 0.407, 0.859, 0.446, 0.872, 0.201, 0.959]\n",
    "\n",
    "ts, sol = utils.solve_model(model, t_max, vars_dict, param_values)\n",
    "\n",
    "filename = \"equilibrium-boundary-yz\"\n",
    "\n",
    "utils.my_plot(ts, sol, title, xaxis, yaxis, labels_colors_dict, filename=filename)"
   ]
  },
  {
   "attachments": {},
   "cell_type": "markdown",
   "metadata": {},
   "source": [
    "### The interior equilibrium"
   ]
  },
  {
   "cell_type": "code",
   "execution_count": null,
   "metadata": {},
   "outputs": [],
   "source": [
    "param_values = list(params_dict.values())\n",
    "\n",
    "ts, sol = utils.solve_model(model, t_max, vars_dict, param_values)\n",
    "\n",
    "filename = \"equilibrium-interior-time-evolution\"\n",
    "\n",
    "utils.my_plot(ts, sol, title, xaxis, yaxis, labels_colors_dict, filename=filename)"
   ]
  },
  {
   "cell_type": "code",
   "execution_count": null,
   "metadata": {},
   "outputs": [],
   "source": [
    "sol_x, sol_y, sol_z = [sol[:, i] for i in range(len(vars_dict))]\n",
    "\n",
    "title = \"3D Phase Portrait\"\n",
    "xaxis = \"Species X\"\n",
    "yaxis = \"Species Y\"\n",
    "zaxis = \"Species Z\"\n",
    "\n",
    "filename = \"equilibrium-interior-pp-xyz\"\n",
    "\n",
    "utils.my_3D_phase_portrait(sol, title, xaxis, yaxis, zaxis, filename=filename)"
   ]
  },
  {
   "cell_type": "code",
   "execution_count": null,
   "metadata": {},
   "outputs": [],
   "source": [
    "title = f\"2D Phase Portrait: {xaxis} and {yaxis}\"\n",
    "\n",
    "filename = \"equilibrium-interior-pp-xy\"\n",
    "\n",
    "utils.my_2D_phase_portrait(sol_x, sol_y, title, xaxis, yaxis, filename=filename)"
   ]
  },
  {
   "cell_type": "code",
   "execution_count": null,
   "metadata": {},
   "outputs": [],
   "source": [
    "title = f\"2D Phase Portrait: {xaxis} and {zaxis}\"\n",
    "\n",
    "filename = \"equilibrium-interior-pp-xz\"\n",
    "\n",
    "utils.my_2D_phase_portrait(sol_x, sol_z, title, xaxis, zaxis, filename=filename)"
   ]
  },
  {
   "cell_type": "code",
   "execution_count": null,
   "metadata": {},
   "outputs": [],
   "source": [
    "title = f\"2D Phase Portrait: {yaxis} and {zaxis}\"\n",
    "\n",
    "filename = \"equilibrium-interior-pp-yz\"\n",
    "\n",
    "utils.my_2D_phase_portrait(sol_y, sol_z, title, yaxis, zaxis, filename=filename)"
   ]
  }
 ],
 "metadata": {
  "kernelspec": {
   "display_name": "Python 3",
   "language": "python",
   "name": "python3"
  },
  "language_info": {
   "codemirror_mode": {
    "name": "ipython",
    "version": 3
   },
   "file_extension": ".py",
   "mimetype": "text/x-python",
   "name": "python",
   "nbconvert_exporter": "python",
   "pygments_lexer": "ipython3",
   "version": "3.11.1"
  },
  "orig_nbformat": 4
 },
 "nbformat": 4,
 "nbformat_minor": 2
}
